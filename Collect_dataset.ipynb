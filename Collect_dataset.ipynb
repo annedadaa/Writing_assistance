{
  "cells": [
    {
      "cell_type": "markdown",
      "metadata": {
        "id": "BodZh9hKZ7PE"
      },
      "source": [
        "# Collect evaluation dataset for the spell checking (and correction) tools.\n",
        "\n",
        "First, let's define our task: checking of incorrectly spelled words. Which operations with characters within a word might be considered as misspelling:\n",
        "\n",
        "*   **deletion** of character (cat -> ct)\n",
        "*   **swapping** two adjacent characters (cat -> cta)\n",
        "*   **addition** of extra character (cat -> cart)\n",
        "*   **replacement** the current character with a random one (cat -> cvt)\n",
        "\n",
        "Thus, we have to collect as much representative evaluation dataset as possible for this task.\n",
        "\n",
        "Next step is to decide on which level we want to detect and collect misspelled words: token level/sentence level/paragraph level. Ideally, we want to be able to correct misspellings on a paragraph level, but spell checking tools (especially language models) have limitations in number of tokens, so for simplicity of evaluation and dataset collection, **we will focus on a sentence level**."
      ]
    },
    {
      "cell_type": "markdown",
      "metadata": {
        "id": "2e0Y3wBpiNss"
      },
      "source": [
        "## Evaluation dataset sources"
      ]
    },
    {
      "cell_type": "markdown",
      "metadata": {
        "id": "1H4isNZKg86j"
      },
      "source": [
        "Evaluation dataset will constist of:\n",
        "1. [SpellGram](https://huggingface.co/datasets/vishnun/SpellGram) - this dataset has only character replacement misspelling. I'll take only some part of the dataset because it has too many samples for our evaluation purposes.\n",
        "\n",
        "\n",
        "2. Model or rule-based generated samples - we'll cover all the rest categories: deletion, swapping and replacement.\n",
        "\n",
        "All four categories of misspellings will be balanced in orded to fairly evaluate the model and/or rule-based method."
      ]
    },
    {
      "cell_type": "markdown",
      "metadata": {
        "id": "azl-qghGinAd"
      },
      "source": [
        "### Install and load all necessary libraries"
      ]
    },
    {
      "cell_type": "code",
      "execution_count": null,
      "metadata": {
        "colab": {
          "base_uri": "https://localhost:8080/"
        },
        "collapsed": true,
        "id": "EWaJlz-XZ0z9",
        "outputId": "7fac2796-cbc3-4b89-abb8-8c357580f8cf"
      },
      "outputs": [],
      "source": [
        "!pip install datasets pandas transformers torch numpy"
      ]
    },
    {
      "cell_type": "code",
      "execution_count": 230,
      "metadata": {
        "id": "VqIGmLY3jM-K"
      },
      "outputs": [],
      "source": [
        "import pandas as pd\n",
        "import numpy as np\n",
        "\n",
        "from tqdm import tqdm\n",
        "import random\n",
        "import torch\n",
        "from datasets import load_dataset\n",
        "from transformers import GPT2LMHeadModel, GPT2Tokenizer\n",
        "\n",
        "import warnings\n",
        "warnings.filterwarnings('ignore', category=pd.errors.SettingWithCopyWarning)"
      ]
    },
    {
      "cell_type": "markdown",
      "metadata": {
        "id": "wMvB7VkhjVx9"
      },
      "source": [
        "### Part 1: Load SpellGram dataset\n",
        "I will use pandas to store dataset mainly because I will merge it with a custom dataset later."
      ]
    },
    {
      "cell_type": "code",
      "execution_count": 94,
      "metadata": {
        "colab": {
          "base_uri": "https://localhost:8080/",
          "height": 206
        },
        "id": "66FyALEFitdt",
        "outputId": "8f0042b9-bbaa-42b5-e8ff-281f135dc42c"
      },
      "outputs": [
        {
          "data": {
            "application/vnd.google.colaboratory.intrinsic+json": {
              "summary": "{\n  \"name\": \"SpellGram_data\",\n  \"rows\": 40000,\n  \"fields\": [\n    {\n      \"column\": \"source\",\n      \"properties\": {\n        \"dtype\": \"string\",\n        \"num_unique_values\": 40000,\n        \"samples\": [\n          \"to thw south of thw station thw railway line is elevated on a viaduct\",\n          \"hhe station is situated at hhe eastern end of hhe high street\",\n          \"the unemployment rate in consett became double the national average\"\n        ],\n        \"semantic_type\": \"\",\n        \"description\": \"\"\n      }\n    },\n    {\n      \"column\": \"target\",\n      \"properties\": {\n        \"dtype\": \"string\",\n        \"num_unique_values\": 39899,\n        \"samples\": [\n          \"two asian men working on the side of a street with parked cars\",\n          \"and was i not wise he said with complacency\",\n          \"its home field was capilano stadium\"\n        ],\n        \"semantic_type\": \"\",\n        \"description\": \"\"\n      }\n    }\n  ]\n}",
              "type": "dataframe",
              "variable_name": "SpellGram_data"
            },
            "text/html": [
              "\n",
              "  <div id=\"df-ea5e9613-dc64-4306-b3e8-826de57002a5\" class=\"colab-df-container\">\n",
              "    <div>\n",
              "<style scoped>\n",
              "    .dataframe tbody tr th:only-of-type {\n",
              "        vertical-align: middle;\n",
              "    }\n",
              "\n",
              "    .dataframe tbody tr th {\n",
              "        vertical-align: top;\n",
              "    }\n",
              "\n",
              "    .dataframe thead th {\n",
              "        text-align: right;\n",
              "    }\n",
              "</style>\n",
              "<table border=\"1\" class=\"dataframe\">\n",
              "  <thead>\n",
              "    <tr style=\"text-align: right;\">\n",
              "      <th></th>\n",
              "      <th>source</th>\n",
              "      <th>target</th>\n",
              "    </tr>\n",
              "  </thead>\n",
              "  <tbody>\n",
              "    <tr>\n",
              "      <th>0</th>\n",
              "      <td>rate the silent upeaker four out oe 6</td>\n",
              "      <td>rate the silent speaker four out of 6</td>\n",
              "    </tr>\n",
              "    <tr>\n",
              "      <th>1</th>\n",
              "      <td>please find me tqe gork tqe bfrning sorld</td>\n",
              "      <td>please find me the work the burning world</td>\n",
              "    </tr>\n",
              "    <tr>\n",
              "      <th>2</th>\n",
              "      <td>three friendl afe relaxing uround the tsble</td>\n",
              "      <td>three friends are relaxing around the table</td>\n",
              "    </tr>\n",
              "    <tr>\n",
              "      <th>3</th>\n",
              "      <td>what dm they want</td>\n",
              "      <td>what do they want</td>\n",
              "    </tr>\n",
              "    <tr>\n",
              "      <th>4</th>\n",
              "      <td>man in tan aat working with stones</td>\n",
              "      <td>man in tan hat working with stones</td>\n",
              "    </tr>\n",
              "  </tbody>\n",
              "</table>\n",
              "</div>\n",
              "    <div class=\"colab-df-buttons\">\n",
              "\n",
              "  <div class=\"colab-df-container\">\n",
              "    <button class=\"colab-df-convert\" onclick=\"convertToInteractive('df-ea5e9613-dc64-4306-b3e8-826de57002a5')\"\n",
              "            title=\"Convert this dataframe to an interactive table.\"\n",
              "            style=\"display:none;\">\n",
              "\n",
              "  <svg xmlns=\"http://www.w3.org/2000/svg\" height=\"24px\" viewBox=\"0 -960 960 960\">\n",
              "    <path d=\"M120-120v-720h720v720H120Zm60-500h600v-160H180v160Zm220 220h160v-160H400v160Zm0 220h160v-160H400v160ZM180-400h160v-160H180v160Zm440 0h160v-160H620v160ZM180-180h160v-160H180v160Zm440 0h160v-160H620v160Z\"/>\n",
              "  </svg>\n",
              "    </button>\n",
              "\n",
              "  <style>\n",
              "    .colab-df-container {\n",
              "      display:flex;\n",
              "      gap: 12px;\n",
              "    }\n",
              "\n",
              "    .colab-df-convert {\n",
              "      background-color: #E8F0FE;\n",
              "      border: none;\n",
              "      border-radius: 50%;\n",
              "      cursor: pointer;\n",
              "      display: none;\n",
              "      fill: #1967D2;\n",
              "      height: 32px;\n",
              "      padding: 0 0 0 0;\n",
              "      width: 32px;\n",
              "    }\n",
              "\n",
              "    .colab-df-convert:hover {\n",
              "      background-color: #E2EBFA;\n",
              "      box-shadow: 0px 1px 2px rgba(60, 64, 67, 0.3), 0px 1px 3px 1px rgba(60, 64, 67, 0.15);\n",
              "      fill: #174EA6;\n",
              "    }\n",
              "\n",
              "    .colab-df-buttons div {\n",
              "      margin-bottom: 4px;\n",
              "    }\n",
              "\n",
              "    [theme=dark] .colab-df-convert {\n",
              "      background-color: #3B4455;\n",
              "      fill: #D2E3FC;\n",
              "    }\n",
              "\n",
              "    [theme=dark] .colab-df-convert:hover {\n",
              "      background-color: #434B5C;\n",
              "      box-shadow: 0px 1px 3px 1px rgba(0, 0, 0, 0.15);\n",
              "      filter: drop-shadow(0px 1px 2px rgba(0, 0, 0, 0.3));\n",
              "      fill: #FFFFFF;\n",
              "    }\n",
              "  </style>\n",
              "\n",
              "    <script>\n",
              "      const buttonEl =\n",
              "        document.querySelector('#df-ea5e9613-dc64-4306-b3e8-826de57002a5 button.colab-df-convert');\n",
              "      buttonEl.style.display =\n",
              "        google.colab.kernel.accessAllowed ? 'block' : 'none';\n",
              "\n",
              "      async function convertToInteractive(key) {\n",
              "        const element = document.querySelector('#df-ea5e9613-dc64-4306-b3e8-826de57002a5');\n",
              "        const dataTable =\n",
              "          await google.colab.kernel.invokeFunction('convertToInteractive',\n",
              "                                                    [key], {});\n",
              "        if (!dataTable) return;\n",
              "\n",
              "        const docLinkHtml = 'Like what you see? Visit the ' +\n",
              "          '<a target=\"_blank\" href=https://colab.research.google.com/notebooks/data_table.ipynb>data table notebook</a>'\n",
              "          + ' to learn more about interactive tables.';\n",
              "        element.innerHTML = '';\n",
              "        dataTable['output_type'] = 'display_data';\n",
              "        await google.colab.output.renderOutput(dataTable, element);\n",
              "        const docLink = document.createElement('div');\n",
              "        docLink.innerHTML = docLinkHtml;\n",
              "        element.appendChild(docLink);\n",
              "      }\n",
              "    </script>\n",
              "  </div>\n",
              "\n",
              "\n",
              "<div id=\"df-23a9ebb9-7445-4d5f-ae7c-d95bbef78d72\">\n",
              "  <button class=\"colab-df-quickchart\" onclick=\"quickchart('df-23a9ebb9-7445-4d5f-ae7c-d95bbef78d72')\"\n",
              "            title=\"Suggest charts\"\n",
              "            style=\"display:none;\">\n",
              "\n",
              "<svg xmlns=\"http://www.w3.org/2000/svg\" height=\"24px\"viewBox=\"0 0 24 24\"\n",
              "     width=\"24px\">\n",
              "    <g>\n",
              "        <path d=\"M19 3H5c-1.1 0-2 .9-2 2v14c0 1.1.9 2 2 2h14c1.1 0 2-.9 2-2V5c0-1.1-.9-2-2-2zM9 17H7v-7h2v7zm4 0h-2V7h2v10zm4 0h-2v-4h2v4z\"/>\n",
              "    </g>\n",
              "</svg>\n",
              "  </button>\n",
              "\n",
              "<style>\n",
              "  .colab-df-quickchart {\n",
              "      --bg-color: #E8F0FE;\n",
              "      --fill-color: #1967D2;\n",
              "      --hover-bg-color: #E2EBFA;\n",
              "      --hover-fill-color: #174EA6;\n",
              "      --disabled-fill-color: #AAA;\n",
              "      --disabled-bg-color: #DDD;\n",
              "  }\n",
              "\n",
              "  [theme=dark] .colab-df-quickchart {\n",
              "      --bg-color: #3B4455;\n",
              "      --fill-color: #D2E3FC;\n",
              "      --hover-bg-color: #434B5C;\n",
              "      --hover-fill-color: #FFFFFF;\n",
              "      --disabled-bg-color: #3B4455;\n",
              "      --disabled-fill-color: #666;\n",
              "  }\n",
              "\n",
              "  .colab-df-quickchart {\n",
              "    background-color: var(--bg-color);\n",
              "    border: none;\n",
              "    border-radius: 50%;\n",
              "    cursor: pointer;\n",
              "    display: none;\n",
              "    fill: var(--fill-color);\n",
              "    height: 32px;\n",
              "    padding: 0;\n",
              "    width: 32px;\n",
              "  }\n",
              "\n",
              "  .colab-df-quickchart:hover {\n",
              "    background-color: var(--hover-bg-color);\n",
              "    box-shadow: 0 1px 2px rgba(60, 64, 67, 0.3), 0 1px 3px 1px rgba(60, 64, 67, 0.15);\n",
              "    fill: var(--button-hover-fill-color);\n",
              "  }\n",
              "\n",
              "  .colab-df-quickchart-complete:disabled,\n",
              "  .colab-df-quickchart-complete:disabled:hover {\n",
              "    background-color: var(--disabled-bg-color);\n",
              "    fill: var(--disabled-fill-color);\n",
              "    box-shadow: none;\n",
              "  }\n",
              "\n",
              "  .colab-df-spinner {\n",
              "    border: 2px solid var(--fill-color);\n",
              "    border-color: transparent;\n",
              "    border-bottom-color: var(--fill-color);\n",
              "    animation:\n",
              "      spin 1s steps(1) infinite;\n",
              "  }\n",
              "\n",
              "  @keyframes spin {\n",
              "    0% {\n",
              "      border-color: transparent;\n",
              "      border-bottom-color: var(--fill-color);\n",
              "      border-left-color: var(--fill-color);\n",
              "    }\n",
              "    20% {\n",
              "      border-color: transparent;\n",
              "      border-left-color: var(--fill-color);\n",
              "      border-top-color: var(--fill-color);\n",
              "    }\n",
              "    30% {\n",
              "      border-color: transparent;\n",
              "      border-left-color: var(--fill-color);\n",
              "      border-top-color: var(--fill-color);\n",
              "      border-right-color: var(--fill-color);\n",
              "    }\n",
              "    40% {\n",
              "      border-color: transparent;\n",
              "      border-right-color: var(--fill-color);\n",
              "      border-top-color: var(--fill-color);\n",
              "    }\n",
              "    60% {\n",
              "      border-color: transparent;\n",
              "      border-right-color: var(--fill-color);\n",
              "    }\n",
              "    80% {\n",
              "      border-color: transparent;\n",
              "      border-right-color: var(--fill-color);\n",
              "      border-bottom-color: var(--fill-color);\n",
              "    }\n",
              "    90% {\n",
              "      border-color: transparent;\n",
              "      border-bottom-color: var(--fill-color);\n",
              "    }\n",
              "  }\n",
              "</style>\n",
              "\n",
              "  <script>\n",
              "    async function quickchart(key) {\n",
              "      const quickchartButtonEl =\n",
              "        document.querySelector('#' + key + ' button');\n",
              "      quickchartButtonEl.disabled = true;  // To prevent multiple clicks.\n",
              "      quickchartButtonEl.classList.add('colab-df-spinner');\n",
              "      try {\n",
              "        const charts = await google.colab.kernel.invokeFunction(\n",
              "            'suggestCharts', [key], {});\n",
              "      } catch (error) {\n",
              "        console.error('Error during call to suggestCharts:', error);\n",
              "      }\n",
              "      quickchartButtonEl.classList.remove('colab-df-spinner');\n",
              "      quickchartButtonEl.classList.add('colab-df-quickchart-complete');\n",
              "    }\n",
              "    (() => {\n",
              "      let quickchartButtonEl =\n",
              "        document.querySelector('#df-23a9ebb9-7445-4d5f-ae7c-d95bbef78d72 button');\n",
              "      quickchartButtonEl.style.display =\n",
              "        google.colab.kernel.accessAllowed ? 'block' : 'none';\n",
              "    })();\n",
              "  </script>\n",
              "</div>\n",
              "\n",
              "    </div>\n",
              "  </div>\n"
            ],
            "text/plain": [
              "                                        source  \\\n",
              "0        rate the silent upeaker four out oe 6   \n",
              "1    please find me tqe gork tqe bfrning sorld   \n",
              "2  three friendl afe relaxing uround the tsble   \n",
              "3                            what dm they want   \n",
              "4           man in tan aat working with stones   \n",
              "\n",
              "                                        target  \n",
              "0        rate the silent speaker four out of 6  \n",
              "1    please find me the work the burning world  \n",
              "2  three friends are relaxing around the table  \n",
              "3                            what do they want  \n",
              "4           man in tan hat working with stones  "
            ]
          },
          "execution_count": 94,
          "metadata": {},
          "output_type": "execute_result"
        }
      ],
      "source": [
        "SpellGram_dataset = load_dataset(\"vishnun/SpellGram\")\n",
        "SpellGram_data = SpellGram_dataset['train'].to_pandas() # dataset has only \"train\" split\n",
        "SpellGram_data.head()"
      ]
    },
    {
      "cell_type": "code",
      "execution_count": 95,
      "metadata": {
        "colab": {
          "base_uri": "https://localhost:8080/"
        },
        "id": "gKRRDLWgj8GC",
        "outputId": "ebba9f07-445a-4023-e412-687a5510a588"
      },
      "outputs": [
        {
          "data": {
            "text/plain": [
              "40000"
            ]
          },
          "execution_count": 95,
          "metadata": {},
          "output_type": "execute_result"
        }
      ],
      "source": [
        "len(SpellGram_data)"
      ]
    },
    {
      "cell_type": "markdown",
      "metadata": {
        "id": "OOxIQ1mSkOz5"
      },
      "source": [
        "### Let's see some statistics of the loaded dataset."
      ]
    },
    {
      "cell_type": "code",
      "execution_count": 96,
      "metadata": {
        "colab": {
          "base_uri": "https://localhost:8080/"
        },
        "id": "GbId21s5lB31",
        "outputId": "2e3fc254-9d1b-4144-da08-a3ac86be880a"
      },
      "outputs": [
        {
          "name": "stdout",
          "output_type": "stream",
          "text": [
            "Number of rows with None/NaN in 'source': 0\n"
          ]
        }
      ],
      "source": [
        "source_nulls = SpellGram_data['source'].isna().sum()\n",
        "print(f\"Number of rows with None/NaN in 'source': {source_nulls}\")"
      ]
    },
    {
      "cell_type": "code",
      "execution_count": 97,
      "metadata": {
        "colab": {
          "base_uri": "https://localhost:8080/"
        },
        "id": "2eY61TQ_lGlK",
        "outputId": "eda65c7b-0409-4e83-cf05-6ea2b3c966c1"
      },
      "outputs": [
        {
          "name": "stdout",
          "output_type": "stream",
          "text": [
            "Number of rows with None/NaN in 'target': 1\n"
          ]
        }
      ],
      "source": [
        "source_nulls = SpellGram_data['target'].isna().sum()\n",
        "print(f\"Number of rows with None/NaN in 'target': {source_nulls}\")"
      ]
    },
    {
      "cell_type": "code",
      "execution_count": 98,
      "metadata": {
        "id": "4f7IGKdHlJrS"
      },
      "outputs": [],
      "source": [
        "SpellGram_data = SpellGram_data.dropna()\n",
        "SpellGram_data.reset_index(drop=True, inplace=True)"
      ]
    },
    {
      "cell_type": "code",
      "execution_count": 99,
      "metadata": {
        "id": "qrpe6GEQj_IR"
      },
      "outputs": [],
      "source": [
        "def text_statistics(df, column_name):\n",
        "    df[f'{column_name}_length_char'] = df[column_name].apply(len)\n",
        "    df[f'{column_name}_length_word'] = df[column_name].apply(lambda x: len(x.split()))\n",
        "\n",
        "    # Characters statistics\n",
        "    stats_char = {\n",
        "        'mean': df[f'{column_name}_length_char'].mean(),\n",
        "        'max': df[f'{column_name}_length_char'].max(),\n",
        "        'min': df[f'{column_name}_length_char'].min(),\n",
        "        'std': df[f'{column_name}_length_char'].std()\n",
        "    }\n",
        "    # Words statistics\n",
        "    stats_word = {\n",
        "        'mean': df[f'{column_name}_length_word'].mean(),\n",
        "        'max': df[f'{column_name}_length_word'].max(),\n",
        "        'min': df[f'{column_name}_length_word'].min(),\n",
        "        'std': df[f'{column_name}_length_word'].std()\n",
        "    }\n",
        "    return {\n",
        "        'stats_char': stats_char,\n",
        "        'stats_word': stats_word\n",
        "    }"
      ]
    },
    {
      "cell_type": "code",
      "execution_count": 100,
      "metadata": {
        "colab": {
          "base_uri": "https://localhost:8080/"
        },
        "id": "JFH9412gkjh_",
        "outputId": "ec0ae57a-6893-4ee1-8aed-19bde49ba935"
      },
      "outputs": [
        {
          "name": "stdout",
          "output_type": "stream",
          "text": [
            "********** Source Column Statistics: **********\n",
            "Text length (characters):\n",
            "{'mean': 55.11177779444486, 'max': 210, 'min': 2, 'std': 20.075655223022174}\n",
            "Text length (words):\n",
            "{'mean': 9.7811195279882, 'max': 40, 'min': 1, 'std': 3.161276201164558}\n",
            "\n",
            "********** Target Column Statistics: **********\n",
            "Text length (characters):\n",
            "{'mean': 55.117477936948426, 'max': 210, 'min': 2, 'std': 20.073317393567915}\n",
            "Text length (words):\n",
            "{'mean': 9.781094527363184, 'max': 40, 'min': 1, 'std': 3.1612546984707244}\n",
            "\n"
          ]
        }
      ],
      "source": [
        "source_stats = text_statistics(SpellGram_data, 'source')\n",
        "target_stats = text_statistics(SpellGram_data, 'target')\n",
        "\n",
        "print(\"*\"*10, \"Source Column Statistics:\", \"*\"*10)\n",
        "print(f\"Text length (characters):\\n{source_stats['stats_char']}\")\n",
        "print(f\"Text length (words):\\n{source_stats['stats_word']}\\n\")\n",
        "\n",
        "print(\"*\"*10, \"Target Column Statistics:\", \"*\"*10)\n",
        "print(f\"Text length (characters):\\n{target_stats['stats_char']}\")\n",
        "print(f\"Text length (words):\\n{target_stats['stats_word']}\\n\")"
      ]
    },
    {
      "cell_type": "markdown",
      "metadata": {
        "id": "vJUTfowWmN2A"
      },
      "source": [
        "As we can see, the character statistics on \"source\" and \"target\" gives us the same (or almost the same) number meaning that there are no additions/deletions indeed. Let's see why we got slightly different mean values in characters."
      ]
    },
    {
      "cell_type": "code",
      "execution_count": 101,
      "metadata": {
        "colab": {
          "base_uri": "https://localhost:8080/",
          "height": 224
        },
        "id": "6C-py7iymePR",
        "outputId": "a3def767-52a2-47f0-a669-27605ca7ba9e"
      },
      "outputs": [
        {
          "name": "stdout",
          "output_type": "stream",
          "text": [
            "Number of rows with length mismatch: 228\n"
          ]
        },
        {
          "data": {
            "application/vnd.google.colaboratory.intrinsic+json": {
              "summary": "{\n  \"name\": \"diff_length_rows[['source', 'target', 'source_length_char', 'target_length_char']]\",\n  \"rows\": 5,\n  \"fields\": [\n    {\n      \"column\": \"source\",\n      \"properties\": {\n        \"dtype\": \"string\",\n        \"num_unique_values\": 5,\n        \"samples\": [\n          \"she s grown a goop deal xas her first remark\",\n          \"can t zou tae queen said in a pitying tone\",\n          \"if i d meant that i d have naid it naid humpty dumpty\"\n        ],\n        \"semantic_type\": \"\",\n        \"description\": \"\"\n      }\n    },\n    {\n      \"column\": \"target\",\n      \"properties\": {\n        \"dtype\": \"string\",\n        \"num_unique_values\": 5,\n        \"samples\": [\n          \" she s grown a good deal was her first remark\",\n          \" can t you the queen said in a pitying tone\",\n          \" if i d meant that i d have said it said humpty dumpty\"\n        ],\n        \"semantic_type\": \"\",\n        \"description\": \"\"\n      }\n    },\n    {\n      \"column\": \"source_length_char\",\n      \"properties\": {\n        \"dtype\": \"number\",\n        \"std\": 10,\n        \"min\": 42,\n        \"max\": 65,\n        \"num_unique_values\": 5,\n        \"samples\": [\n          44,\n          42,\n          53\n        ],\n        \"semantic_type\": \"\",\n        \"description\": \"\"\n      }\n    },\n    {\n      \"column\": \"target_length_char\",\n      \"properties\": {\n        \"dtype\": \"number\",\n        \"std\": 10,\n        \"min\": 43,\n        \"max\": 66,\n        \"num_unique_values\": 5,\n        \"samples\": [\n          45,\n          43,\n          54\n        ],\n        \"semantic_type\": \"\",\n        \"description\": \"\"\n      }\n    }\n  ]\n}",
              "type": "dataframe"
            },
            "text/html": [
              "\n",
              "  <div id=\"df-51836e53-360f-4158-b02c-1c2e284e057b\" class=\"colab-df-container\">\n",
              "    <div>\n",
              "<style scoped>\n",
              "    .dataframe tbody tr th:only-of-type {\n",
              "        vertical-align: middle;\n",
              "    }\n",
              "\n",
              "    .dataframe tbody tr th {\n",
              "        vertical-align: top;\n",
              "    }\n",
              "\n",
              "    .dataframe thead th {\n",
              "        text-align: right;\n",
              "    }\n",
              "</style>\n",
              "<table border=\"1\" class=\"dataframe\">\n",
              "  <thead>\n",
              "    <tr style=\"text-align: right;\">\n",
              "      <th></th>\n",
              "      <th>source</th>\n",
              "      <th>target</th>\n",
              "      <th>source_length_char</th>\n",
              "      <th>target_length_char</th>\n",
              "    </tr>\n",
              "  </thead>\n",
              "  <tbody>\n",
              "    <tr>\n",
              "      <th>5</th>\n",
              "      <td>treacle said the dormouse without considering ...</td>\n",
              "      <td>treacle said the dormouse without considering...</td>\n",
              "      <td>62</td>\n",
              "      <td>63</td>\n",
              "    </tr>\n",
              "    <tr>\n",
              "      <th>426</th>\n",
              "      <td>she s grown a goop deal xas her first remark</td>\n",
              "      <td>she s grown a good deal was her first remark</td>\n",
              "      <td>44</td>\n",
              "      <td>45</td>\n",
              "    </tr>\n",
              "    <tr>\n",
              "      <th>606</th>\n",
              "      <td>if i d meant that i d have naid it naid humpty...</td>\n",
              "      <td>if i d meant that i d have said it said humpt...</td>\n",
              "      <td>53</td>\n",
              "      <td>54</td>\n",
              "    </tr>\n",
              "    <tr>\n",
              "      <th>767</th>\n",
              "      <td>scow your ticket chiwd the gufrd went on looki...</td>\n",
              "      <td>show your ticket child the guard went on look...</td>\n",
              "      <td>65</td>\n",
              "      <td>66</td>\n",
              "    </tr>\n",
              "    <tr>\n",
              "      <th>814</th>\n",
              "      <td>can t zou tae queen said in a pitying tone</td>\n",
              "      <td>can t you the queen said in a pitying tone</td>\n",
              "      <td>42</td>\n",
              "      <td>43</td>\n",
              "    </tr>\n",
              "  </tbody>\n",
              "</table>\n",
              "</div>\n",
              "    <div class=\"colab-df-buttons\">\n",
              "\n",
              "  <div class=\"colab-df-container\">\n",
              "    <button class=\"colab-df-convert\" onclick=\"convertToInteractive('df-51836e53-360f-4158-b02c-1c2e284e057b')\"\n",
              "            title=\"Convert this dataframe to an interactive table.\"\n",
              "            style=\"display:none;\">\n",
              "\n",
              "  <svg xmlns=\"http://www.w3.org/2000/svg\" height=\"24px\" viewBox=\"0 -960 960 960\">\n",
              "    <path d=\"M120-120v-720h720v720H120Zm60-500h600v-160H180v160Zm220 220h160v-160H400v160Zm0 220h160v-160H400v160ZM180-400h160v-160H180v160Zm440 0h160v-160H620v160ZM180-180h160v-160H180v160Zm440 0h160v-160H620v160Z\"/>\n",
              "  </svg>\n",
              "    </button>\n",
              "\n",
              "  <style>\n",
              "    .colab-df-container {\n",
              "      display:flex;\n",
              "      gap: 12px;\n",
              "    }\n",
              "\n",
              "    .colab-df-convert {\n",
              "      background-color: #E8F0FE;\n",
              "      border: none;\n",
              "      border-radius: 50%;\n",
              "      cursor: pointer;\n",
              "      display: none;\n",
              "      fill: #1967D2;\n",
              "      height: 32px;\n",
              "      padding: 0 0 0 0;\n",
              "      width: 32px;\n",
              "    }\n",
              "\n",
              "    .colab-df-convert:hover {\n",
              "      background-color: #E2EBFA;\n",
              "      box-shadow: 0px 1px 2px rgba(60, 64, 67, 0.3), 0px 1px 3px 1px rgba(60, 64, 67, 0.15);\n",
              "      fill: #174EA6;\n",
              "    }\n",
              "\n",
              "    .colab-df-buttons div {\n",
              "      margin-bottom: 4px;\n",
              "    }\n",
              "\n",
              "    [theme=dark] .colab-df-convert {\n",
              "      background-color: #3B4455;\n",
              "      fill: #D2E3FC;\n",
              "    }\n",
              "\n",
              "    [theme=dark] .colab-df-convert:hover {\n",
              "      background-color: #434B5C;\n",
              "      box-shadow: 0px 1px 3px 1px rgba(0, 0, 0, 0.15);\n",
              "      filter: drop-shadow(0px 1px 2px rgba(0, 0, 0, 0.3));\n",
              "      fill: #FFFFFF;\n",
              "    }\n",
              "  </style>\n",
              "\n",
              "    <script>\n",
              "      const buttonEl =\n",
              "        document.querySelector('#df-51836e53-360f-4158-b02c-1c2e284e057b button.colab-df-convert');\n",
              "      buttonEl.style.display =\n",
              "        google.colab.kernel.accessAllowed ? 'block' : 'none';\n",
              "\n",
              "      async function convertToInteractive(key) {\n",
              "        const element = document.querySelector('#df-51836e53-360f-4158-b02c-1c2e284e057b');\n",
              "        const dataTable =\n",
              "          await google.colab.kernel.invokeFunction('convertToInteractive',\n",
              "                                                    [key], {});\n",
              "        if (!dataTable) return;\n",
              "\n",
              "        const docLinkHtml = 'Like what you see? Visit the ' +\n",
              "          '<a target=\"_blank\" href=https://colab.research.google.com/notebooks/data_table.ipynb>data table notebook</a>'\n",
              "          + ' to learn more about interactive tables.';\n",
              "        element.innerHTML = '';\n",
              "        dataTable['output_type'] = 'display_data';\n",
              "        await google.colab.output.renderOutput(dataTable, element);\n",
              "        const docLink = document.createElement('div');\n",
              "        docLink.innerHTML = docLinkHtml;\n",
              "        element.appendChild(docLink);\n",
              "      }\n",
              "    </script>\n",
              "  </div>\n",
              "\n",
              "\n",
              "<div id=\"df-267f6c49-0460-4bea-b5ab-41001b8237a7\">\n",
              "  <button class=\"colab-df-quickchart\" onclick=\"quickchart('df-267f6c49-0460-4bea-b5ab-41001b8237a7')\"\n",
              "            title=\"Suggest charts\"\n",
              "            style=\"display:none;\">\n",
              "\n",
              "<svg xmlns=\"http://www.w3.org/2000/svg\" height=\"24px\"viewBox=\"0 0 24 24\"\n",
              "     width=\"24px\">\n",
              "    <g>\n",
              "        <path d=\"M19 3H5c-1.1 0-2 .9-2 2v14c0 1.1.9 2 2 2h14c1.1 0 2-.9 2-2V5c0-1.1-.9-2-2-2zM9 17H7v-7h2v7zm4 0h-2V7h2v10zm4 0h-2v-4h2v4z\"/>\n",
              "    </g>\n",
              "</svg>\n",
              "  </button>\n",
              "\n",
              "<style>\n",
              "  .colab-df-quickchart {\n",
              "      --bg-color: #E8F0FE;\n",
              "      --fill-color: #1967D2;\n",
              "      --hover-bg-color: #E2EBFA;\n",
              "      --hover-fill-color: #174EA6;\n",
              "      --disabled-fill-color: #AAA;\n",
              "      --disabled-bg-color: #DDD;\n",
              "  }\n",
              "\n",
              "  [theme=dark] .colab-df-quickchart {\n",
              "      --bg-color: #3B4455;\n",
              "      --fill-color: #D2E3FC;\n",
              "      --hover-bg-color: #434B5C;\n",
              "      --hover-fill-color: #FFFFFF;\n",
              "      --disabled-bg-color: #3B4455;\n",
              "      --disabled-fill-color: #666;\n",
              "  }\n",
              "\n",
              "  .colab-df-quickchart {\n",
              "    background-color: var(--bg-color);\n",
              "    border: none;\n",
              "    border-radius: 50%;\n",
              "    cursor: pointer;\n",
              "    display: none;\n",
              "    fill: var(--fill-color);\n",
              "    height: 32px;\n",
              "    padding: 0;\n",
              "    width: 32px;\n",
              "  }\n",
              "\n",
              "  .colab-df-quickchart:hover {\n",
              "    background-color: var(--hover-bg-color);\n",
              "    box-shadow: 0 1px 2px rgba(60, 64, 67, 0.3), 0 1px 3px 1px rgba(60, 64, 67, 0.15);\n",
              "    fill: var(--button-hover-fill-color);\n",
              "  }\n",
              "\n",
              "  .colab-df-quickchart-complete:disabled,\n",
              "  .colab-df-quickchart-complete:disabled:hover {\n",
              "    background-color: var(--disabled-bg-color);\n",
              "    fill: var(--disabled-fill-color);\n",
              "    box-shadow: none;\n",
              "  }\n",
              "\n",
              "  .colab-df-spinner {\n",
              "    border: 2px solid var(--fill-color);\n",
              "    border-color: transparent;\n",
              "    border-bottom-color: var(--fill-color);\n",
              "    animation:\n",
              "      spin 1s steps(1) infinite;\n",
              "  }\n",
              "\n",
              "  @keyframes spin {\n",
              "    0% {\n",
              "      border-color: transparent;\n",
              "      border-bottom-color: var(--fill-color);\n",
              "      border-left-color: var(--fill-color);\n",
              "    }\n",
              "    20% {\n",
              "      border-color: transparent;\n",
              "      border-left-color: var(--fill-color);\n",
              "      border-top-color: var(--fill-color);\n",
              "    }\n",
              "    30% {\n",
              "      border-color: transparent;\n",
              "      border-left-color: var(--fill-color);\n",
              "      border-top-color: var(--fill-color);\n",
              "      border-right-color: var(--fill-color);\n",
              "    }\n",
              "    40% {\n",
              "      border-color: transparent;\n",
              "      border-right-color: var(--fill-color);\n",
              "      border-top-color: var(--fill-color);\n",
              "    }\n",
              "    60% {\n",
              "      border-color: transparent;\n",
              "      border-right-color: var(--fill-color);\n",
              "    }\n",
              "    80% {\n",
              "      border-color: transparent;\n",
              "      border-right-color: var(--fill-color);\n",
              "      border-bottom-color: var(--fill-color);\n",
              "    }\n",
              "    90% {\n",
              "      border-color: transparent;\n",
              "      border-bottom-color: var(--fill-color);\n",
              "    }\n",
              "  }\n",
              "</style>\n",
              "\n",
              "  <script>\n",
              "    async function quickchart(key) {\n",
              "      const quickchartButtonEl =\n",
              "        document.querySelector('#' + key + ' button');\n",
              "      quickchartButtonEl.disabled = true;  // To prevent multiple clicks.\n",
              "      quickchartButtonEl.classList.add('colab-df-spinner');\n",
              "      try {\n",
              "        const charts = await google.colab.kernel.invokeFunction(\n",
              "            'suggestCharts', [key], {});\n",
              "      } catch (error) {\n",
              "        console.error('Error during call to suggestCharts:', error);\n",
              "      }\n",
              "      quickchartButtonEl.classList.remove('colab-df-spinner');\n",
              "      quickchartButtonEl.classList.add('colab-df-quickchart-complete');\n",
              "    }\n",
              "    (() => {\n",
              "      let quickchartButtonEl =\n",
              "        document.querySelector('#df-267f6c49-0460-4bea-b5ab-41001b8237a7 button');\n",
              "      quickchartButtonEl.style.display =\n",
              "        google.colab.kernel.accessAllowed ? 'block' : 'none';\n",
              "    })();\n",
              "  </script>\n",
              "</div>\n",
              "\n",
              "    </div>\n",
              "  </div>\n"
            ],
            "text/plain": [
              "                                                source  \\\n",
              "5    treacle said the dormouse without considering ...   \n",
              "426       she s grown a goop deal xas her first remark   \n",
              "606  if i d meant that i d have naid it naid humpty...   \n",
              "767  scow your ticket chiwd the gufrd went on looki...   \n",
              "814         can t zou tae queen said in a pitying tone   \n",
              "\n",
              "                                                target  source_length_char  \\\n",
              "5     treacle said the dormouse without considering...                  62   \n",
              "426       she s grown a good deal was her first remark                  44   \n",
              "606   if i d meant that i d have said it said humpt...                  53   \n",
              "767   show your ticket child the guard went on look...                  65   \n",
              "814         can t you the queen said in a pitying tone                  42   \n",
              "\n",
              "     target_length_char  \n",
              "5                    63  \n",
              "426                  45  \n",
              "606                  54  \n",
              "767                  66  \n",
              "814                  43  "
            ]
          },
          "execution_count": 101,
          "metadata": {},
          "output_type": "execute_result"
        }
      ],
      "source": [
        "SpellGram_data['source_length_char'] = SpellGram_data['source'].apply(len)\n",
        "SpellGram_data['target_length_char'] = SpellGram_data['target'].apply(len)\n",
        "\n",
        "diff_length_rows = SpellGram_data[SpellGram_data['source_length_char'] != SpellGram_data['target_length_char']]\n",
        "\n",
        "print('Number of rows with length mismatch:', len(diff_length_rows[['source', 'target', 'source_length_char', 'target_length_char']]))\n",
        "diff_length_rows[['source', 'target', 'source_length_char', 'target_length_char']].head()"
      ]
    },
    {
      "cell_type": "markdown",
      "metadata": {
        "id": "IJIZCRsKoLbL"
      },
      "source": [
        "This difference might occur due to extra spaces in the target column. Let's try to fix that."
      ]
    },
    {
      "cell_type": "code",
      "execution_count": 102,
      "metadata": {
        "colab": {
          "base_uri": "https://localhost:8080/",
          "height": 99
        },
        "id": "Sd3MDzKQoRJE",
        "outputId": "60417e12-bad7-41cf-9fbc-ea6e88340509"
      },
      "outputs": [
        {
          "name": "stdout",
          "output_type": "stream",
          "text": [
            "Number of rows with length mismatch: 1\n"
          ]
        },
        {
          "data": {
            "application/vnd.google.colaboratory.intrinsic+json": {
              "summary": "{\n  \"name\": \"diff_length_rows[['source', 'target', 'source_length_char', 'target_length_char']]\",\n  \"rows\": 1,\n  \"fields\": [\n    {\n      \"column\": \"source\",\n      \"properties\": {\n        \"dtype\": \"string\",\n        \"num_unique_values\": 1,\n        \"samples\": [\n          \"however i know my name now she said that s some comfort g\"\n        ],\n        \"semantic_type\": \"\",\n        \"description\": \"\"\n      }\n    },\n    {\n      \"column\": \"target\",\n      \"properties\": {\n        \"dtype\": \"string\",\n        \"num_unique_values\": 1,\n        \"samples\": [\n          \"however i know my name now she said that s some comfort\"\n        ],\n        \"semantic_type\": \"\",\n        \"description\": \"\"\n      }\n    },\n    {\n      \"column\": \"source_length_char\",\n      \"properties\": {\n        \"dtype\": \"number\",\n        \"std\": null,\n        \"min\": 57,\n        \"max\": 57,\n        \"num_unique_values\": 1,\n        \"samples\": [\n          57\n        ],\n        \"semantic_type\": \"\",\n        \"description\": \"\"\n      }\n    },\n    {\n      \"column\": \"target_length_char\",\n      \"properties\": {\n        \"dtype\": \"number\",\n        \"std\": null,\n        \"min\": 55,\n        \"max\": 55,\n        \"num_unique_values\": 1,\n        \"samples\": [\n          55\n        ],\n        \"semantic_type\": \"\",\n        \"description\": \"\"\n      }\n    }\n  ]\n}",
              "type": "dataframe"
            },
            "text/html": [
              "\n",
              "  <div id=\"df-aad73fdb-e30b-4f3f-bf07-376a7e7de65b\" class=\"colab-df-container\">\n",
              "    <div>\n",
              "<style scoped>\n",
              "    .dataframe tbody tr th:only-of-type {\n",
              "        vertical-align: middle;\n",
              "    }\n",
              "\n",
              "    .dataframe tbody tr th {\n",
              "        vertical-align: top;\n",
              "    }\n",
              "\n",
              "    .dataframe thead th {\n",
              "        text-align: right;\n",
              "    }\n",
              "</style>\n",
              "<table border=\"1\" class=\"dataframe\">\n",
              "  <thead>\n",
              "    <tr style=\"text-align: right;\">\n",
              "      <th></th>\n",
              "      <th>source</th>\n",
              "      <th>target</th>\n",
              "      <th>source_length_char</th>\n",
              "      <th>target_length_char</th>\n",
              "    </tr>\n",
              "  </thead>\n",
              "  <tbody>\n",
              "    <tr>\n",
              "      <th>2055</th>\n",
              "      <td>however i know my name now she said that s som...</td>\n",
              "      <td>however i know my name now she said that s som...</td>\n",
              "      <td>57</td>\n",
              "      <td>55</td>\n",
              "    </tr>\n",
              "  </tbody>\n",
              "</table>\n",
              "</div>\n",
              "    <div class=\"colab-df-buttons\">\n",
              "\n",
              "  <div class=\"colab-df-container\">\n",
              "    <button class=\"colab-df-convert\" onclick=\"convertToInteractive('df-aad73fdb-e30b-4f3f-bf07-376a7e7de65b')\"\n",
              "            title=\"Convert this dataframe to an interactive table.\"\n",
              "            style=\"display:none;\">\n",
              "\n",
              "  <svg xmlns=\"http://www.w3.org/2000/svg\" height=\"24px\" viewBox=\"0 -960 960 960\">\n",
              "    <path d=\"M120-120v-720h720v720H120Zm60-500h600v-160H180v160Zm220 220h160v-160H400v160Zm0 220h160v-160H400v160ZM180-400h160v-160H180v160Zm440 0h160v-160H620v160ZM180-180h160v-160H180v160Zm440 0h160v-160H620v160Z\"/>\n",
              "  </svg>\n",
              "    </button>\n",
              "\n",
              "  <style>\n",
              "    .colab-df-container {\n",
              "      display:flex;\n",
              "      gap: 12px;\n",
              "    }\n",
              "\n",
              "    .colab-df-convert {\n",
              "      background-color: #E8F0FE;\n",
              "      border: none;\n",
              "      border-radius: 50%;\n",
              "      cursor: pointer;\n",
              "      display: none;\n",
              "      fill: #1967D2;\n",
              "      height: 32px;\n",
              "      padding: 0 0 0 0;\n",
              "      width: 32px;\n",
              "    }\n",
              "\n",
              "    .colab-df-convert:hover {\n",
              "      background-color: #E2EBFA;\n",
              "      box-shadow: 0px 1px 2px rgba(60, 64, 67, 0.3), 0px 1px 3px 1px rgba(60, 64, 67, 0.15);\n",
              "      fill: #174EA6;\n",
              "    }\n",
              "\n",
              "    .colab-df-buttons div {\n",
              "      margin-bottom: 4px;\n",
              "    }\n",
              "\n",
              "    [theme=dark] .colab-df-convert {\n",
              "      background-color: #3B4455;\n",
              "      fill: #D2E3FC;\n",
              "    }\n",
              "\n",
              "    [theme=dark] .colab-df-convert:hover {\n",
              "      background-color: #434B5C;\n",
              "      box-shadow: 0px 1px 3px 1px rgba(0, 0, 0, 0.15);\n",
              "      filter: drop-shadow(0px 1px 2px rgba(0, 0, 0, 0.3));\n",
              "      fill: #FFFFFF;\n",
              "    }\n",
              "  </style>\n",
              "\n",
              "    <script>\n",
              "      const buttonEl =\n",
              "        document.querySelector('#df-aad73fdb-e30b-4f3f-bf07-376a7e7de65b button.colab-df-convert');\n",
              "      buttonEl.style.display =\n",
              "        google.colab.kernel.accessAllowed ? 'block' : 'none';\n",
              "\n",
              "      async function convertToInteractive(key) {\n",
              "        const element = document.querySelector('#df-aad73fdb-e30b-4f3f-bf07-376a7e7de65b');\n",
              "        const dataTable =\n",
              "          await google.colab.kernel.invokeFunction('convertToInteractive',\n",
              "                                                    [key], {});\n",
              "        if (!dataTable) return;\n",
              "\n",
              "        const docLinkHtml = 'Like what you see? Visit the ' +\n",
              "          '<a target=\"_blank\" href=https://colab.research.google.com/notebooks/data_table.ipynb>data table notebook</a>'\n",
              "          + ' to learn more about interactive tables.';\n",
              "        element.innerHTML = '';\n",
              "        dataTable['output_type'] = 'display_data';\n",
              "        await google.colab.output.renderOutput(dataTable, element);\n",
              "        const docLink = document.createElement('div');\n",
              "        docLink.innerHTML = docLinkHtml;\n",
              "        element.appendChild(docLink);\n",
              "      }\n",
              "    </script>\n",
              "  </div>\n",
              "\n",
              "\n",
              "    </div>\n",
              "  </div>\n"
            ],
            "text/plain": [
              "                                                 source  \\\n",
              "2055  however i know my name now she said that s som...   \n",
              "\n",
              "                                                 target  source_length_char  \\\n",
              "2055  however i know my name now she said that s som...                  57   \n",
              "\n",
              "      target_length_char  \n",
              "2055                  55  "
            ]
          },
          "execution_count": 102,
          "metadata": {},
          "output_type": "execute_result"
        }
      ],
      "source": [
        "SpellGram_data['target'] = SpellGram_data['target'].str.replace(r'\\s+', ' ', regex=True).str.strip()\n",
        "SpellGram_data['source'] = SpellGram_data['source'].str.replace(r'\\s+', ' ', regex=True).str.strip()\n",
        "\n",
        "SpellGram_data['source_length_char'] = SpellGram_data['source'].apply(len)\n",
        "SpellGram_data['target_length_char'] = SpellGram_data['target'].apply(len)\n",
        "\n",
        "diff_length_rows = SpellGram_data[SpellGram_data['source_length_char'] != SpellGram_data['target_length_char']]\n",
        "\n",
        "print('Number of rows with length mismatch:', len(diff_length_rows[['source', 'target', 'source_length_char', 'target_length_char']]))\n",
        "diff_length_rows[['source', 'target', 'source_length_char', 'target_length_char']].head()"
      ]
    },
    {
      "cell_type": "markdown",
      "metadata": {
        "id": "iPluZqZ7pj3L"
      },
      "source": [
        "Now we have one row with length mismatch, let's explore it."
      ]
    },
    {
      "cell_type": "code",
      "execution_count": 103,
      "metadata": {
        "colab": {
          "base_uri": "https://localhost:8080/",
          "height": 35
        },
        "id": "h1nbP4GrpN10",
        "outputId": "63b97978-bd99-492b-fadb-6fcbb7fa4abe"
      },
      "outputs": [
        {
          "data": {
            "application/vnd.google.colaboratory.intrinsic+json": {
              "type": "string"
            },
            "text/plain": [
              "'however i know my name now she said that s some comfort g'"
            ]
          },
          "execution_count": 103,
          "metadata": {},
          "output_type": "execute_result"
        }
      ],
      "source": [
        "diff_length_rows['source'].iloc[0]"
      ]
    },
    {
      "cell_type": "code",
      "execution_count": 104,
      "metadata": {
        "colab": {
          "base_uri": "https://localhost:8080/",
          "height": 35
        },
        "id": "JxupxNxypUid",
        "outputId": "a626bfac-7ea8-4d00-e5e8-615e2cda9b44"
      },
      "outputs": [
        {
          "data": {
            "application/vnd.google.colaboratory.intrinsic+json": {
              "type": "string"
            },
            "text/plain": [
              "'however i know my name now she said that s some comfort'"
            ]
          },
          "execution_count": 104,
          "metadata": {},
          "output_type": "execute_result"
        }
      ],
      "source": [
        "diff_length_rows['target'].iloc[0]"
      ]
    },
    {
      "cell_type": "markdown",
      "metadata": {
        "id": "1f-cKy4jpaKX"
      },
      "source": [
        "This row is most probably an outlier. Let's delete it from the dataset."
      ]
    },
    {
      "cell_type": "code",
      "execution_count": 105,
      "metadata": {
        "colab": {
          "base_uri": "https://localhost:8080/"
        },
        "id": "NP6vCrfupjAD",
        "outputId": "96391650-6e80-4c31-ad6c-c45ded290c8b"
      },
      "outputs": [
        {
          "data": {
            "text/plain": [
              "39998"
            ]
          },
          "execution_count": 105,
          "metadata": {},
          "output_type": "execute_result"
        }
      ],
      "source": [
        "SpellGram_data = SpellGram_data.drop(diff_length_rows.index)\n",
        "SpellGram_data.reset_index(drop=True, inplace=True)\n",
        "len(SpellGram_data)"
      ]
    },
    {
      "cell_type": "markdown",
      "metadata": {
        "id": "BzZFDs0_qOOa"
      },
      "source": [
        "Now, let's take a slice of our dataset and keep only \"source\" and \"target\" columns. Then, save our dataset to a .csv file."
      ]
    },
    {
      "cell_type": "code",
      "execution_count": 106,
      "metadata": {
        "id": "ErXehWnKqSEu"
      },
      "outputs": [],
      "source": [
        "SpellGram_data_500 = SpellGram_data[['source', 'target']][:500]"
      ]
    },
    {
      "cell_type": "code",
      "execution_count": 108,
      "metadata": {
        "id": "tMdjKaCdqhyu"
      },
      "outputs": [],
      "source": [
        "SpellGram_data_500.to_csv(\"SpellGram_data_500.csv\")"
      ]
    },
    {
      "cell_type": "markdown",
      "metadata": {
        "id": "A0kY7g6Vj5pR"
      },
      "source": [
        "### Part 2: Generate dataset using GPT2 and rule-based methods"
      ]
    },
    {
      "cell_type": "markdown",
      "metadata": {
        "id": "FsioyYvmsLO3"
      },
      "source": [
        "Now we need to generate 1500 (500 for each misspelling category) target sentences.\n",
        "\n",
        "- First, we will try to use GPT2 because it's not that large and it should handle one random sentence generation just fine.\n",
        "\n",
        "- Otherwise, we will take 1500 random sentences from some dataset."
      ]
    },
    {
      "cell_type": "markdown",
      "metadata": {
        "id": "NohB_RRGwq1Q"
      },
      "source": [
        "For a minimal prompt for the model, we'll take a random word from SpellGram dataset (\"target\" column) because it's more reliable than GPT2's tokenizer vocabulary which might have irrelevant characters."
      ]
    },
    {
      "cell_type": "code",
      "execution_count": 61,
      "metadata": {
        "id": "jl0QS7T0w-SU"
      },
      "outputs": [],
      "source": [
        "SpellGram_vocab = []\n",
        "\n",
        "for sent in SpellGram_data['target'].to_list():\n",
        "  SpellGram_vocab.extend(sent.split())"
      ]
    },
    {
      "cell_type": "code",
      "execution_count": 56,
      "metadata": {
        "id": "Vu7K0VXdvR52"
      },
      "outputs": [],
      "source": [
        "device = torch.device(\"cuda\" if torch.cuda.is_available() else \"cpu\")"
      ]
    },
    {
      "cell_type": "code",
      "execution_count": 58,
      "metadata": {
        "colab": {
          "base_uri": "https://localhost:8080/"
        },
        "id": "JlXOtGTrx8Tj",
        "outputId": "793beae5-0628-4857-b08e-89211daf6701"
      },
      "outputs": [
        {
          "data": {
            "text/plain": [
              "device(type='cuda')"
            ]
          },
          "execution_count": 58,
          "metadata": {},
          "output_type": "execute_result"
        }
      ],
      "source": [
        "device"
      ]
    },
    {
      "cell_type": "code",
      "execution_count": null,
      "metadata": {
        "colab": {
          "base_uri": "https://localhost:8080/"
        },
        "collapsed": true,
        "id": "0-2pdhGZvACn",
        "outputId": "832fdb10-8880-4f0a-d86b-a33b44179205"
      },
      "outputs": [],
      "source": [
        "tokenizer = GPT2Tokenizer.from_pretrained('gpt2')\n",
        "model = GPT2LMHeadModel.from_pretrained('gpt2')\n",
        "model.to(device)\n",
        "model.eval()"
      ]
    },
    {
      "cell_type": "markdown",
      "metadata": {
        "id": "SQ7k3s8jxwz7"
      },
      "source": [
        "To generate sentences, I will use character and word statistics of SpellGram dataset so our evaluation dataset can be consistent:\n",
        "\n",
        "**Characters**:\n",
        "\n",
        "- mean: 55.117477936948426\n",
        "- max: 210\n",
        "- min: 2\n",
        "- std: 20.073317393567915\n",
        "\n",
        "**Words**:\n",
        "- mean: 9.781094527363184\n",
        "- max: 40\n",
        "- min: 1\n",
        "- std: 3.1612546984707244"
      ]
    },
    {
      "cell_type": "code",
      "execution_count": 88,
      "metadata": {
        "id": "ZiaHuXF8uBJM"
      },
      "outputs": [],
      "source": [
        "def generate_sentence(max_length=210):\n",
        "    random_word = random.choice(SpellGram_vocab)\n",
        "    input_ids = tokenizer.encode(random_word, return_tensors='pt').to(device)\n",
        "\n",
        "    output = model.generate(input_ids, max_length=random.randint(len(random_word)+1, max_length), num_return_sequences=1)\n",
        "    sentence = tokenizer.decode(output[0], skip_special_tokens=True)\n",
        "\n",
        "    return sentence.strip()"
      ]
    },
    {
      "cell_type": "markdown",
      "metadata": {
        "id": "H5zj9r8q12Xa"
      },
      "source": [
        "Let's do the test run to see whether our model can generate someting decent."
      ]
    },
    {
      "cell_type": "code",
      "execution_count": null,
      "metadata": {
        "colab": {
          "base_uri": "https://localhost:8080/"
        },
        "collapsed": true,
        "id": "4VmqmgwUu7Oz",
        "outputId": "015a86e3-6bdd-405a-aef8-c1e1082efda2"
      },
      "outputs": [],
      "source": [
        "n_sentences = 50\n",
        "sentences = []\n",
        "\n",
        "while len(sentences) < n_sentences:\n",
        "    sentence = generate_sentence(max_length=40)\n",
        "    word_count = len(sentence.split())\n",
        "\n",
        "    # Check the word count criteria\n",
        "    if word_count <= 40 and word_count >= 1:\n",
        "        sentences.append(sentence.replace('\\n', '').split('.')[0])"
      ]
    },
    {
      "cell_type": "code",
      "execution_count": 93,
      "metadata": {
        "colab": {
          "base_uri": "https://localhost:8080/"
        },
        "id": "WgstEieYy2CQ",
        "outputId": "13cbe046-e571-41dd-9f43-51cf71f55790"
      },
      "outputs": [
        {
          "name": "stdout",
          "output_type": "stream",
          "text": [
            "located in the same directory as the file\n",
            "months\n",
            "border\n",
            "are, a former U\n",
            "was, in fact, a very good one\n",
            "the, \"I'm not sure what you're talking about,\" and\n",
            "adult, and the most important thing is that you're not going to\n",
            "arthropod, which is a type of fish that is\n",
            "has\n",
            "damaged\n"
          ]
        }
      ],
      "source": [
        "for s in sentences[:10]:\n",
        "  print(s)"
      ]
    },
    {
      "cell_type": "markdown",
      "metadata": {
        "id": "9DMxF-IQ1gZ9"
      },
      "source": [
        "We can see that our model hallucinates a lot and a random starting word prompt was not a good idea.\n",
        "\n",
        "Let's get 1500 sentences from the SpellGram_data dataset but only those target sentences which are not present in our saved dataset."
      ]
    },
    {
      "cell_type": "code",
      "execution_count": 268,
      "metadata": {
        "colab": {
          "base_uri": "https://localhost:8080/",
          "height": 241
        },
        "id": "wfncfkWd1yE5",
        "outputId": "a25c2fc5-4241-4e29-8d83-70efd541950b"
      },
      "outputs": [
        {
          "data": {
            "text/html": [
              "<div>\n",
              "<style scoped>\n",
              "    .dataframe tbody tr th:only-of-type {\n",
              "        vertical-align: middle;\n",
              "    }\n",
              "\n",
              "    .dataframe tbody tr th {\n",
              "        vertical-align: top;\n",
              "    }\n",
              "\n",
              "    .dataframe thead th {\n",
              "        text-align: right;\n",
              "    }\n",
              "</style>\n",
              "<table border=\"1\" class=\"dataframe\">\n",
              "  <thead>\n",
              "    <tr style=\"text-align: right;\">\n",
              "      <th></th>\n",
              "      <th>target</th>\n",
              "    </tr>\n",
              "  </thead>\n",
              "  <tbody>\n",
              "    <tr>\n",
              "      <th>0</th>\n",
              "      <td>is it for further automatic processing</td>\n",
              "    </tr>\n",
              "    <tr>\n",
              "      <th>1</th>\n",
              "      <td>the result was an oldsmobilelike bulge</td>\n",
              "    </tr>\n",
              "    <tr>\n",
              "      <th>2</th>\n",
              "      <td>i actually felt lighthearted</td>\n",
              "    </tr>\n",
              "    <tr>\n",
              "      <th>3</th>\n",
              "      <td>dialogue implies a deadly rivalry between him ...</td>\n",
              "    </tr>\n",
              "    <tr>\n",
              "      <th>4</th>\n",
              "      <td>the book has been wrong in the past</td>\n",
              "    </tr>\n",
              "  </tbody>\n",
              "</table>\n",
              "</div><br><label><b>dtype:</b> object</label>"
            ],
            "text/plain": [
              "0               is it for further automatic processing\n",
              "1               the result was an oldsmobilelike bulge\n",
              "2                         i actually felt lighthearted\n",
              "3    dialogue implies a deadly rivalry between him ...\n",
              "4                  the book has been wrong in the past\n",
              "Name: target, dtype: object"
            ]
          },
          "execution_count": 268,
          "metadata": {},
          "output_type": "execute_result"
        }
      ],
      "source": [
        "SpellGram_remaining_samples = SpellGram_data[~SpellGram_data.index.isin(SpellGram_data.index[:500])]['target']\n",
        "SpellGram_data_1500 = SpellGram_remaining_samples[:1500]\n",
        "SpellGram_data_1500.reset_index(drop=True, inplace=True)\n",
        "SpellGram_data_1500.head()"
      ]
    },
    {
      "cell_type": "markdown",
      "metadata": {
        "id": "clF00z0BuvuF"
      },
      "source": [
        "Then, let's introduce our misspellings to generate the \"target\" column."
      ]
    },
    {
      "cell_type": "code",
      "execution_count": 229,
      "metadata": {
        "id": "TlicEMBnr7qh"
      },
      "outputs": [],
      "source": [
        "def introduce_spelling_errors(sentence, error_type, error_rate=0.5):\n",
        "    sentence_words = sentence.split()\n",
        "\n",
        "    assert error_type in ['swap', 'delete', 'add'], \"Error type must be 'swap', 'delete', or 'add'.\"\n",
        "\n",
        "    # Calculate the number of characters to change based on the error_rate\n",
        "    if int(error_rate * len(sentence_words)) > 1:\n",
        "      num_words_to_change = random.sample(range(1, int(error_rate * len(sentence_words))), 1)[0]\n",
        "    else:\n",
        "      num_words_to_change = 1\n",
        "    words_to_change_indexes = random.sample(range(len(sentence_words)), num_words_to_change)\n",
        "\n",
        "    for index in words_to_change_indexes:\n",
        "        word = sentence_words[index]\n",
        "        chars = list(word)\n",
        "\n",
        "        if error_type == 'swap' and len(chars) > 1:  # Ensure there are at least 2 characters to swap\n",
        "            swap_index = random.randint(0, len(chars) - 2)\n",
        "            chars[swap_index], chars[swap_index + 1] = chars[swap_index + 1], chars[swap_index]\n",
        "\n",
        "        elif error_type == 'delete' and len(chars) > 0:  # Ensure there's at least one character to delete\n",
        "            delete_index = random.randint(0, len(chars) - 1)\n",
        "            chars.pop(delete_index)\n",
        "\n",
        "        elif error_type == 'add':\n",
        "            add_index = random.randint(0, len(chars))  # Random index to add a character (can add at the end)\n",
        "            chars.insert(add_index, random.choice('abcdefghijklmnopqrstuvwxyz'))\n",
        "\n",
        "        sentence_words[index] = ''.join(chars)\n",
        "\n",
        "    return ' '.join(sentence_words)"
      ]
    },
    {
      "cell_type": "code",
      "execution_count": 217,
      "metadata": {
        "colab": {
          "base_uri": "https://localhost:8080/"
        },
        "id": "KVYh529AtegQ",
        "outputId": "a2a86819-b957-4e82-c12f-37e2a771eef4"
      },
      "outputs": [
        {
          "name": "stdout",
          "output_type": "stream",
          "text": [
            "Original sentence: this is a sample sentence for generating spelling mistakes\n",
            "Incorrectly spelled sentence: this is a sample sentenkce for generating spellintg mistakzes\n"
          ]
        }
      ],
      "source": [
        "input_sentence = \"this is a sample sentence for generating spelling mistakes\"\n",
        "incorrect_sentence = introduce_spelling_errors(input_sentence,\n",
        "                                               error_type='add',\n",
        "                                               error_rate=0.5)\n",
        "\n",
        "print(\"Original sentence:\", input_sentence)\n",
        "print(\"Incorrectly spelled sentence:\", incorrect_sentence)"
      ]
    },
    {
      "cell_type": "markdown",
      "metadata": {
        "id": "r2W3vUW4DJYT"
      },
      "source": [
        "Now let's generate 1500 source misspelled samples with maximum error_rate equal to 0.5 (meaning that n words in range [1, n_words*0.5] will be changed)."
      ]
    },
    {
      "cell_type": "code",
      "execution_count": 239,
      "metadata": {
        "id": "P3VXQzJ1D9Ks"
      },
      "outputs": [],
      "source": [
        "source_sentences = []"
      ]
    },
    {
      "cell_type": "markdown",
      "metadata": {
        "id": "4WkRRaKHDqZU"
      },
      "source": [
        "Swap:"
      ]
    },
    {
      "cell_type": "code",
      "execution_count": 240,
      "metadata": {
        "colab": {
          "base_uri": "https://localhost:8080/"
        },
        "id": "qWz-niFAr8yp",
        "outputId": "b7de1f3c-d27e-4076-c156-d2fced65fa65"
      },
      "outputs": [
        {
          "name": "stderr",
          "output_type": "stream",
          "text": [
            "100%|██████████| 500/500 [00:00<00:00, 82360.76it/s]\n"
          ]
        }
      ],
      "source": [
        "for sent in tqdm(SpellGram_data_1500[:500]):\n",
        "    incorrect_sentence = introduce_spelling_errors(sentence=sent,\n",
        "                                                   error_type='swap',\n",
        "                                                   error_rate=0.5)\n",
        "    source_sentences.append(incorrect_sentence)"
      ]
    },
    {
      "cell_type": "markdown",
      "metadata": {
        "id": "PY7wm24IDs1j"
      },
      "source": [
        "Delete:"
      ]
    },
    {
      "cell_type": "code",
      "execution_count": 241,
      "metadata": {
        "colab": {
          "base_uri": "https://localhost:8080/"
        },
        "id": "FzyXMsb1r83T",
        "outputId": "d63231ee-b166-4353-f712-59052c57946d"
      },
      "outputs": [
        {
          "name": "stderr",
          "output_type": "stream",
          "text": [
            "100%|██████████| 500/500 [00:00<00:00, 42522.19it/s]\n"
          ]
        }
      ],
      "source": [
        "for sent in tqdm(SpellGram_data_1500[500:1000]):\n",
        "    incorrect_sentence = introduce_spelling_errors(sentence=sent,\n",
        "                                                   error_type='delete',\n",
        "                                                   error_rate=0.5)\n",
        "    source_sentences.append(incorrect_sentence)"
      ]
    },
    {
      "cell_type": "markdown",
      "metadata": {
        "id": "76p31b1uDvYU"
      },
      "source": [
        "Add:"
      ]
    },
    {
      "cell_type": "code",
      "execution_count": 242,
      "metadata": {
        "colab": {
          "base_uri": "https://localhost:8080/"
        },
        "id": "T6nwHkxqDwEk",
        "outputId": "b0a5fb87-5099-4fe6-ad70-ec3a1f77985d"
      },
      "outputs": [
        {
          "name": "stderr",
          "output_type": "stream",
          "text": [
            "100%|██████████| 500/500 [00:00<00:00, 46944.51it/s]\n"
          ]
        }
      ],
      "source": [
        "for sent in tqdm(SpellGram_data_1500[1000:]):\n",
        "    incorrect_sentence = introduce_spelling_errors(sentence=sent,\n",
        "                                                   error_type='add',\n",
        "                                                   error_rate=0.5)\n",
        "    source_sentences.append(incorrect_sentence)"
      ]
    },
    {
      "cell_type": "code",
      "execution_count": 243,
      "metadata": {
        "colab": {
          "base_uri": "https://localhost:8080/"
        },
        "id": "6dPTkXqRF7oZ",
        "outputId": "e1723aee-49af-4f5e-e5a3-ec848c5a9174"
      },
      "outputs": [
        {
          "data": {
            "text/plain": [
              "1500"
            ]
          },
          "execution_count": 243,
          "metadata": {},
          "output_type": "execute_result"
        }
      ],
      "source": [
        "len(source_sentences)"
      ]
    },
    {
      "cell_type": "code",
      "execution_count": 263,
      "metadata": {
        "colab": {
          "base_uri": "https://localhost:8080/"
        },
        "id": "GEK3GfRkH72E",
        "outputId": "0676303d-fa35-4980-9938-e1c4960d40ba"
      },
      "outputs": [
        {
          "data": {
            "text/plain": [
              "['si it for further autmoatic processing',\n",
              " 'the result was na oldsmobilelike buleg',\n",
              " 'i actually felt lighthearted',\n",
              " 'dialogue implies a deadly rivalry between him nad hnazo hasashi ebtter known as scorpion',\n",
              " 'the book has been wrong in the pats']"
            ]
          },
          "execution_count": 263,
          "metadata": {},
          "output_type": "execute_result"
        }
      ],
      "source": [
        "source_sentences[:5]"
      ]
    },
    {
      "cell_type": "code",
      "execution_count": 270,
      "metadata": {
        "colab": {
          "base_uri": "https://localhost:8080/",
          "height": 206
        },
        "id": "OL6suE7UHa6O",
        "outputId": "0889554a-6ba1-4064-fafb-6cf80b70cd13"
      },
      "outputs": [
        {
          "data": {
            "application/vnd.google.colaboratory.intrinsic+json": {
              "summary": "{\n  \"name\": \"SpellGram_data_1500_final\",\n  \"rows\": 1500,\n  \"fields\": [\n    {\n      \"column\": \"source\",\n      \"properties\": {\n        \"dtype\": \"string\",\n        \"num_unique_values\": 1500,\n        \"samples\": [\n          \"socrates engagesh ion in a philosophical discussionj\",\n          \"a pherson is innocent unless they abre proven guilty\",\n          \"eh was a wrestler in high school and won the state championship\"\n        ],\n        \"semantic_type\": \"\",\n        \"description\": \"\"\n      }\n    },\n    {\n      \"column\": \"target\",\n      \"properties\": {\n        \"dtype\": \"string\",\n        \"num_unique_values\": 1500,\n        \"samples\": [\n          \"socrates engages ion in a philosophical discussion\",\n          \"a person is innocent unless they are proven guilty\",\n          \"he was a wrestler in high school and won the state championship\"\n        ],\n        \"semantic_type\": \"\",\n        \"description\": \"\"\n      }\n    }\n  ]\n}",
              "type": "dataframe",
              "variable_name": "SpellGram_data_1500_final"
            },
            "text/html": [
              "\n",
              "  <div id=\"df-9c8a7121-0874-4873-888c-4ce6afa4a4e5\" class=\"colab-df-container\">\n",
              "    <div>\n",
              "<style scoped>\n",
              "    .dataframe tbody tr th:only-of-type {\n",
              "        vertical-align: middle;\n",
              "    }\n",
              "\n",
              "    .dataframe tbody tr th {\n",
              "        vertical-align: top;\n",
              "    }\n",
              "\n",
              "    .dataframe thead th {\n",
              "        text-align: right;\n",
              "    }\n",
              "</style>\n",
              "<table border=\"1\" class=\"dataframe\">\n",
              "  <thead>\n",
              "    <tr style=\"text-align: right;\">\n",
              "      <th></th>\n",
              "      <th>source</th>\n",
              "      <th>target</th>\n",
              "    </tr>\n",
              "  </thead>\n",
              "  <tbody>\n",
              "    <tr>\n",
              "      <th>0</th>\n",
              "      <td>si it for further autmoatic processing</td>\n",
              "      <td>is it for further automatic processing</td>\n",
              "    </tr>\n",
              "    <tr>\n",
              "      <th>1</th>\n",
              "      <td>the result was na oldsmobilelike buleg</td>\n",
              "      <td>the result was an oldsmobilelike bulge</td>\n",
              "    </tr>\n",
              "    <tr>\n",
              "      <th>2</th>\n",
              "      <td>i actually felt lighthearted</td>\n",
              "      <td>i actually felt lighthearted</td>\n",
              "    </tr>\n",
              "    <tr>\n",
              "      <th>3</th>\n",
              "      <td>dialogue implies a deadly rivalry between him ...</td>\n",
              "      <td>dialogue implies a deadly rivalry between him ...</td>\n",
              "    </tr>\n",
              "    <tr>\n",
              "      <th>4</th>\n",
              "      <td>the book has been wrong in the pats</td>\n",
              "      <td>the book has been wrong in the past</td>\n",
              "    </tr>\n",
              "  </tbody>\n",
              "</table>\n",
              "</div>\n",
              "    <div class=\"colab-df-buttons\">\n",
              "\n",
              "  <div class=\"colab-df-container\">\n",
              "    <button class=\"colab-df-convert\" onclick=\"convertToInteractive('df-9c8a7121-0874-4873-888c-4ce6afa4a4e5')\"\n",
              "            title=\"Convert this dataframe to an interactive table.\"\n",
              "            style=\"display:none;\">\n",
              "\n",
              "  <svg xmlns=\"http://www.w3.org/2000/svg\" height=\"24px\" viewBox=\"0 -960 960 960\">\n",
              "    <path d=\"M120-120v-720h720v720H120Zm60-500h600v-160H180v160Zm220 220h160v-160H400v160Zm0 220h160v-160H400v160ZM180-400h160v-160H180v160Zm440 0h160v-160H620v160ZM180-180h160v-160H180v160Zm440 0h160v-160H620v160Z\"/>\n",
              "  </svg>\n",
              "    </button>\n",
              "\n",
              "  <style>\n",
              "    .colab-df-container {\n",
              "      display:flex;\n",
              "      gap: 12px;\n",
              "    }\n",
              "\n",
              "    .colab-df-convert {\n",
              "      background-color: #E8F0FE;\n",
              "      border: none;\n",
              "      border-radius: 50%;\n",
              "      cursor: pointer;\n",
              "      display: none;\n",
              "      fill: #1967D2;\n",
              "      height: 32px;\n",
              "      padding: 0 0 0 0;\n",
              "      width: 32px;\n",
              "    }\n",
              "\n",
              "    .colab-df-convert:hover {\n",
              "      background-color: #E2EBFA;\n",
              "      box-shadow: 0px 1px 2px rgba(60, 64, 67, 0.3), 0px 1px 3px 1px rgba(60, 64, 67, 0.15);\n",
              "      fill: #174EA6;\n",
              "    }\n",
              "\n",
              "    .colab-df-buttons div {\n",
              "      margin-bottom: 4px;\n",
              "    }\n",
              "\n",
              "    [theme=dark] .colab-df-convert {\n",
              "      background-color: #3B4455;\n",
              "      fill: #D2E3FC;\n",
              "    }\n",
              "\n",
              "    [theme=dark] .colab-df-convert:hover {\n",
              "      background-color: #434B5C;\n",
              "      box-shadow: 0px 1px 3px 1px rgba(0, 0, 0, 0.15);\n",
              "      filter: drop-shadow(0px 1px 2px rgba(0, 0, 0, 0.3));\n",
              "      fill: #FFFFFF;\n",
              "    }\n",
              "  </style>\n",
              "\n",
              "    <script>\n",
              "      const buttonEl =\n",
              "        document.querySelector('#df-9c8a7121-0874-4873-888c-4ce6afa4a4e5 button.colab-df-convert');\n",
              "      buttonEl.style.display =\n",
              "        google.colab.kernel.accessAllowed ? 'block' : 'none';\n",
              "\n",
              "      async function convertToInteractive(key) {\n",
              "        const element = document.querySelector('#df-9c8a7121-0874-4873-888c-4ce6afa4a4e5');\n",
              "        const dataTable =\n",
              "          await google.colab.kernel.invokeFunction('convertToInteractive',\n",
              "                                                    [key], {});\n",
              "        if (!dataTable) return;\n",
              "\n",
              "        const docLinkHtml = 'Like what you see? Visit the ' +\n",
              "          '<a target=\"_blank\" href=https://colab.research.google.com/notebooks/data_table.ipynb>data table notebook</a>'\n",
              "          + ' to learn more about interactive tables.';\n",
              "        element.innerHTML = '';\n",
              "        dataTable['output_type'] = 'display_data';\n",
              "        await google.colab.output.renderOutput(dataTable, element);\n",
              "        const docLink = document.createElement('div');\n",
              "        docLink.innerHTML = docLinkHtml;\n",
              "        element.appendChild(docLink);\n",
              "      }\n",
              "    </script>\n",
              "  </div>\n",
              "\n",
              "\n",
              "<div id=\"df-65105a0e-3eb2-4873-ab79-3a02fd92fea4\">\n",
              "  <button class=\"colab-df-quickchart\" onclick=\"quickchart('df-65105a0e-3eb2-4873-ab79-3a02fd92fea4')\"\n",
              "            title=\"Suggest charts\"\n",
              "            style=\"display:none;\">\n",
              "\n",
              "<svg xmlns=\"http://www.w3.org/2000/svg\" height=\"24px\"viewBox=\"0 0 24 24\"\n",
              "     width=\"24px\">\n",
              "    <g>\n",
              "        <path d=\"M19 3H5c-1.1 0-2 .9-2 2v14c0 1.1.9 2 2 2h14c1.1 0 2-.9 2-2V5c0-1.1-.9-2-2-2zM9 17H7v-7h2v7zm4 0h-2V7h2v10zm4 0h-2v-4h2v4z\"/>\n",
              "    </g>\n",
              "</svg>\n",
              "  </button>\n",
              "\n",
              "<style>\n",
              "  .colab-df-quickchart {\n",
              "      --bg-color: #E8F0FE;\n",
              "      --fill-color: #1967D2;\n",
              "      --hover-bg-color: #E2EBFA;\n",
              "      --hover-fill-color: #174EA6;\n",
              "      --disabled-fill-color: #AAA;\n",
              "      --disabled-bg-color: #DDD;\n",
              "  }\n",
              "\n",
              "  [theme=dark] .colab-df-quickchart {\n",
              "      --bg-color: #3B4455;\n",
              "      --fill-color: #D2E3FC;\n",
              "      --hover-bg-color: #434B5C;\n",
              "      --hover-fill-color: #FFFFFF;\n",
              "      --disabled-bg-color: #3B4455;\n",
              "      --disabled-fill-color: #666;\n",
              "  }\n",
              "\n",
              "  .colab-df-quickchart {\n",
              "    background-color: var(--bg-color);\n",
              "    border: none;\n",
              "    border-radius: 50%;\n",
              "    cursor: pointer;\n",
              "    display: none;\n",
              "    fill: var(--fill-color);\n",
              "    height: 32px;\n",
              "    padding: 0;\n",
              "    width: 32px;\n",
              "  }\n",
              "\n",
              "  .colab-df-quickchart:hover {\n",
              "    background-color: var(--hover-bg-color);\n",
              "    box-shadow: 0 1px 2px rgba(60, 64, 67, 0.3), 0 1px 3px 1px rgba(60, 64, 67, 0.15);\n",
              "    fill: var(--button-hover-fill-color);\n",
              "  }\n",
              "\n",
              "  .colab-df-quickchart-complete:disabled,\n",
              "  .colab-df-quickchart-complete:disabled:hover {\n",
              "    background-color: var(--disabled-bg-color);\n",
              "    fill: var(--disabled-fill-color);\n",
              "    box-shadow: none;\n",
              "  }\n",
              "\n",
              "  .colab-df-spinner {\n",
              "    border: 2px solid var(--fill-color);\n",
              "    border-color: transparent;\n",
              "    border-bottom-color: var(--fill-color);\n",
              "    animation:\n",
              "      spin 1s steps(1) infinite;\n",
              "  }\n",
              "\n",
              "  @keyframes spin {\n",
              "    0% {\n",
              "      border-color: transparent;\n",
              "      border-bottom-color: var(--fill-color);\n",
              "      border-left-color: var(--fill-color);\n",
              "    }\n",
              "    20% {\n",
              "      border-color: transparent;\n",
              "      border-left-color: var(--fill-color);\n",
              "      border-top-color: var(--fill-color);\n",
              "    }\n",
              "    30% {\n",
              "      border-color: transparent;\n",
              "      border-left-color: var(--fill-color);\n",
              "      border-top-color: var(--fill-color);\n",
              "      border-right-color: var(--fill-color);\n",
              "    }\n",
              "    40% {\n",
              "      border-color: transparent;\n",
              "      border-right-color: var(--fill-color);\n",
              "      border-top-color: var(--fill-color);\n",
              "    }\n",
              "    60% {\n",
              "      border-color: transparent;\n",
              "      border-right-color: var(--fill-color);\n",
              "    }\n",
              "    80% {\n",
              "      border-color: transparent;\n",
              "      border-right-color: var(--fill-color);\n",
              "      border-bottom-color: var(--fill-color);\n",
              "    }\n",
              "    90% {\n",
              "      border-color: transparent;\n",
              "      border-bottom-color: var(--fill-color);\n",
              "    }\n",
              "  }\n",
              "</style>\n",
              "\n",
              "  <script>\n",
              "    async function quickchart(key) {\n",
              "      const quickchartButtonEl =\n",
              "        document.querySelector('#' + key + ' button');\n",
              "      quickchartButtonEl.disabled = true;  // To prevent multiple clicks.\n",
              "      quickchartButtonEl.classList.add('colab-df-spinner');\n",
              "      try {\n",
              "        const charts = await google.colab.kernel.invokeFunction(\n",
              "            'suggestCharts', [key], {});\n",
              "      } catch (error) {\n",
              "        console.error('Error during call to suggestCharts:', error);\n",
              "      }\n",
              "      quickchartButtonEl.classList.remove('colab-df-spinner');\n",
              "      quickchartButtonEl.classList.add('colab-df-quickchart-complete');\n",
              "    }\n",
              "    (() => {\n",
              "      let quickchartButtonEl =\n",
              "        document.querySelector('#df-65105a0e-3eb2-4873-ab79-3a02fd92fea4 button');\n",
              "      quickchartButtonEl.style.display =\n",
              "        google.colab.kernel.accessAllowed ? 'block' : 'none';\n",
              "    })();\n",
              "  </script>\n",
              "</div>\n",
              "\n",
              "    </div>\n",
              "  </div>\n"
            ],
            "text/plain": [
              "                                              source  \\\n",
              "0             si it for further autmoatic processing   \n",
              "1             the result was na oldsmobilelike buleg   \n",
              "2                       i actually felt lighthearted   \n",
              "3  dialogue implies a deadly rivalry between him ...   \n",
              "4                the book has been wrong in the pats   \n",
              "\n",
              "                                              target  \n",
              "0             is it for further automatic processing  \n",
              "1             the result was an oldsmobilelike bulge  \n",
              "2                       i actually felt lighthearted  \n",
              "3  dialogue implies a deadly rivalry between him ...  \n",
              "4                the book has been wrong in the past  "
            ]
          },
          "execution_count": 270,
          "metadata": {},
          "output_type": "execute_result"
        }
      ],
      "source": [
        "SpellGram_data_1500_final = pd.DataFrame({'source': source_sentences, 'target': SpellGram_data_1500})\n",
        "SpellGram_data_1500_final.head()"
      ]
    },
    {
      "cell_type": "code",
      "execution_count": 271,
      "metadata": {
        "id": "_bYhhPW_IYZJ"
      },
      "outputs": [],
      "source": [
        "SpellGram_data_1500_final.to_csv('SpellGram_data_1500.csv')"
      ]
    },
    {
      "cell_type": "markdown",
      "metadata": {
        "id": "O21jDK8YIhRn"
      },
      "source": [
        "### Collect all samples together."
      ]
    },
    {
      "cell_type": "code",
      "execution_count": 278,
      "metadata": {
        "colab": {
          "base_uri": "https://localhost:8080/",
          "height": 206
        },
        "id": "-j2hhDfQJGoa",
        "outputId": "238e7c57-1d47-4f5c-c720-d59dd8127f7b"
      },
      "outputs": [
        {
          "data": {
            "application/vnd.google.colaboratory.intrinsic+json": {
              "summary": "{\n  \"name\": \"SpellGram_dataset_2k\",\n  \"rows\": 2000,\n  \"fields\": [\n    {\n      \"column\": \"source\",\n      \"properties\": {\n        \"dtype\": \"string\",\n        \"num_unique_values\": 2000,\n        \"samples\": [\n          \"the course was officially openxed by his royal highness prince bertil\",\n          \"he iu tse eldest son of noel turnour tse seventh earls youtger brother\",\n          \"she tied er shoelaces into a bow\"\n        ],\n        \"semantic_type\": \"\",\n        \"description\": \"\"\n      }\n    },\n    {\n      \"column\": \"target\",\n      \"properties\": {\n        \"dtype\": \"string\",\n        \"num_unique_values\": 2000,\n        \"samples\": [\n          \"the course was officially opened by his royal highness prince bertil\",\n          \"he is the eldest son of noel turnour the seventh earls younger brother\",\n          \"she tied her shoelaces into a bow\"\n        ],\n        \"semantic_type\": \"\",\n        \"description\": \"\"\n      }\n    }\n  ]\n}",
              "type": "dataframe",
              "variable_name": "SpellGram_dataset_2k"
            },
            "text/html": [
              "\n",
              "  <div id=\"df-d6b6626f-4d8a-4d9d-8f96-a913b01aac60\" class=\"colab-df-container\">\n",
              "    <div>\n",
              "<style scoped>\n",
              "    .dataframe tbody tr th:only-of-type {\n",
              "        vertical-align: middle;\n",
              "    }\n",
              "\n",
              "    .dataframe tbody tr th {\n",
              "        vertical-align: top;\n",
              "    }\n",
              "\n",
              "    .dataframe thead th {\n",
              "        text-align: right;\n",
              "    }\n",
              "</style>\n",
              "<table border=\"1\" class=\"dataframe\">\n",
              "  <thead>\n",
              "    <tr style=\"text-align: right;\">\n",
              "      <th></th>\n",
              "      <th>source</th>\n",
              "      <th>target</th>\n",
              "    </tr>\n",
              "  </thead>\n",
              "  <tbody>\n",
              "    <tr>\n",
              "      <th>0</th>\n",
              "      <td>rate the silent upeaker four out oe 6</td>\n",
              "      <td>rate the silent speaker four out of 6</td>\n",
              "    </tr>\n",
              "    <tr>\n",
              "      <th>1</th>\n",
              "      <td>please find me tqe gork tqe bfrning sorld</td>\n",
              "      <td>please find me the work the burning world</td>\n",
              "    </tr>\n",
              "    <tr>\n",
              "      <th>2</th>\n",
              "      <td>three friendl afe relaxing uround the tsble</td>\n",
              "      <td>three friends are relaxing around the table</td>\n",
              "    </tr>\n",
              "    <tr>\n",
              "      <th>3</th>\n",
              "      <td>what dm they want</td>\n",
              "      <td>what do they want</td>\n",
              "    </tr>\n",
              "    <tr>\n",
              "      <th>4</th>\n",
              "      <td>man in tan aat working with stones</td>\n",
              "      <td>man in tan hat working with stones</td>\n",
              "    </tr>\n",
              "  </tbody>\n",
              "</table>\n",
              "</div>\n",
              "    <div class=\"colab-df-buttons\">\n",
              "\n",
              "  <div class=\"colab-df-container\">\n",
              "    <button class=\"colab-df-convert\" onclick=\"convertToInteractive('df-d6b6626f-4d8a-4d9d-8f96-a913b01aac60')\"\n",
              "            title=\"Convert this dataframe to an interactive table.\"\n",
              "            style=\"display:none;\">\n",
              "\n",
              "  <svg xmlns=\"http://www.w3.org/2000/svg\" height=\"24px\" viewBox=\"0 -960 960 960\">\n",
              "    <path d=\"M120-120v-720h720v720H120Zm60-500h600v-160H180v160Zm220 220h160v-160H400v160Zm0 220h160v-160H400v160ZM180-400h160v-160H180v160Zm440 0h160v-160H620v160ZM180-180h160v-160H180v160Zm440 0h160v-160H620v160Z\"/>\n",
              "  </svg>\n",
              "    </button>\n",
              "\n",
              "  <style>\n",
              "    .colab-df-container {\n",
              "      display:flex;\n",
              "      gap: 12px;\n",
              "    }\n",
              "\n",
              "    .colab-df-convert {\n",
              "      background-color: #E8F0FE;\n",
              "      border: none;\n",
              "      border-radius: 50%;\n",
              "      cursor: pointer;\n",
              "      display: none;\n",
              "      fill: #1967D2;\n",
              "      height: 32px;\n",
              "      padding: 0 0 0 0;\n",
              "      width: 32px;\n",
              "    }\n",
              "\n",
              "    .colab-df-convert:hover {\n",
              "      background-color: #E2EBFA;\n",
              "      box-shadow: 0px 1px 2px rgba(60, 64, 67, 0.3), 0px 1px 3px 1px rgba(60, 64, 67, 0.15);\n",
              "      fill: #174EA6;\n",
              "    }\n",
              "\n",
              "    .colab-df-buttons div {\n",
              "      margin-bottom: 4px;\n",
              "    }\n",
              "\n",
              "    [theme=dark] .colab-df-convert {\n",
              "      background-color: #3B4455;\n",
              "      fill: #D2E3FC;\n",
              "    }\n",
              "\n",
              "    [theme=dark] .colab-df-convert:hover {\n",
              "      background-color: #434B5C;\n",
              "      box-shadow: 0px 1px 3px 1px rgba(0, 0, 0, 0.15);\n",
              "      filter: drop-shadow(0px 1px 2px rgba(0, 0, 0, 0.3));\n",
              "      fill: #FFFFFF;\n",
              "    }\n",
              "  </style>\n",
              "\n",
              "    <script>\n",
              "      const buttonEl =\n",
              "        document.querySelector('#df-d6b6626f-4d8a-4d9d-8f96-a913b01aac60 button.colab-df-convert');\n",
              "      buttonEl.style.display =\n",
              "        google.colab.kernel.accessAllowed ? 'block' : 'none';\n",
              "\n",
              "      async function convertToInteractive(key) {\n",
              "        const element = document.querySelector('#df-d6b6626f-4d8a-4d9d-8f96-a913b01aac60');\n",
              "        const dataTable =\n",
              "          await google.colab.kernel.invokeFunction('convertToInteractive',\n",
              "                                                    [key], {});\n",
              "        if (!dataTable) return;\n",
              "\n",
              "        const docLinkHtml = 'Like what you see? Visit the ' +\n",
              "          '<a target=\"_blank\" href=https://colab.research.google.com/notebooks/data_table.ipynb>data table notebook</a>'\n",
              "          + ' to learn more about interactive tables.';\n",
              "        element.innerHTML = '';\n",
              "        dataTable['output_type'] = 'display_data';\n",
              "        await google.colab.output.renderOutput(dataTable, element);\n",
              "        const docLink = document.createElement('div');\n",
              "        docLink.innerHTML = docLinkHtml;\n",
              "        element.appendChild(docLink);\n",
              "      }\n",
              "    </script>\n",
              "  </div>\n",
              "\n",
              "\n",
              "<div id=\"df-9042f0cf-8da9-47d3-877a-e446d5e32351\">\n",
              "  <button class=\"colab-df-quickchart\" onclick=\"quickchart('df-9042f0cf-8da9-47d3-877a-e446d5e32351')\"\n",
              "            title=\"Suggest charts\"\n",
              "            style=\"display:none;\">\n",
              "\n",
              "<svg xmlns=\"http://www.w3.org/2000/svg\" height=\"24px\"viewBox=\"0 0 24 24\"\n",
              "     width=\"24px\">\n",
              "    <g>\n",
              "        <path d=\"M19 3H5c-1.1 0-2 .9-2 2v14c0 1.1.9 2 2 2h14c1.1 0 2-.9 2-2V5c0-1.1-.9-2-2-2zM9 17H7v-7h2v7zm4 0h-2V7h2v10zm4 0h-2v-4h2v4z\"/>\n",
              "    </g>\n",
              "</svg>\n",
              "  </button>\n",
              "\n",
              "<style>\n",
              "  .colab-df-quickchart {\n",
              "      --bg-color: #E8F0FE;\n",
              "      --fill-color: #1967D2;\n",
              "      --hover-bg-color: #E2EBFA;\n",
              "      --hover-fill-color: #174EA6;\n",
              "      --disabled-fill-color: #AAA;\n",
              "      --disabled-bg-color: #DDD;\n",
              "  }\n",
              "\n",
              "  [theme=dark] .colab-df-quickchart {\n",
              "      --bg-color: #3B4455;\n",
              "      --fill-color: #D2E3FC;\n",
              "      --hover-bg-color: #434B5C;\n",
              "      --hover-fill-color: #FFFFFF;\n",
              "      --disabled-bg-color: #3B4455;\n",
              "      --disabled-fill-color: #666;\n",
              "  }\n",
              "\n",
              "  .colab-df-quickchart {\n",
              "    background-color: var(--bg-color);\n",
              "    border: none;\n",
              "    border-radius: 50%;\n",
              "    cursor: pointer;\n",
              "    display: none;\n",
              "    fill: var(--fill-color);\n",
              "    height: 32px;\n",
              "    padding: 0;\n",
              "    width: 32px;\n",
              "  }\n",
              "\n",
              "  .colab-df-quickchart:hover {\n",
              "    background-color: var(--hover-bg-color);\n",
              "    box-shadow: 0 1px 2px rgba(60, 64, 67, 0.3), 0 1px 3px 1px rgba(60, 64, 67, 0.15);\n",
              "    fill: var(--button-hover-fill-color);\n",
              "  }\n",
              "\n",
              "  .colab-df-quickchart-complete:disabled,\n",
              "  .colab-df-quickchart-complete:disabled:hover {\n",
              "    background-color: var(--disabled-bg-color);\n",
              "    fill: var(--disabled-fill-color);\n",
              "    box-shadow: none;\n",
              "  }\n",
              "\n",
              "  .colab-df-spinner {\n",
              "    border: 2px solid var(--fill-color);\n",
              "    border-color: transparent;\n",
              "    border-bottom-color: var(--fill-color);\n",
              "    animation:\n",
              "      spin 1s steps(1) infinite;\n",
              "  }\n",
              "\n",
              "  @keyframes spin {\n",
              "    0% {\n",
              "      border-color: transparent;\n",
              "      border-bottom-color: var(--fill-color);\n",
              "      border-left-color: var(--fill-color);\n",
              "    }\n",
              "    20% {\n",
              "      border-color: transparent;\n",
              "      border-left-color: var(--fill-color);\n",
              "      border-top-color: var(--fill-color);\n",
              "    }\n",
              "    30% {\n",
              "      border-color: transparent;\n",
              "      border-left-color: var(--fill-color);\n",
              "      border-top-color: var(--fill-color);\n",
              "      border-right-color: var(--fill-color);\n",
              "    }\n",
              "    40% {\n",
              "      border-color: transparent;\n",
              "      border-right-color: var(--fill-color);\n",
              "      border-top-color: var(--fill-color);\n",
              "    }\n",
              "    60% {\n",
              "      border-color: transparent;\n",
              "      border-right-color: var(--fill-color);\n",
              "    }\n",
              "    80% {\n",
              "      border-color: transparent;\n",
              "      border-right-color: var(--fill-color);\n",
              "      border-bottom-color: var(--fill-color);\n",
              "    }\n",
              "    90% {\n",
              "      border-color: transparent;\n",
              "      border-bottom-color: var(--fill-color);\n",
              "    }\n",
              "  }\n",
              "</style>\n",
              "\n",
              "  <script>\n",
              "    async function quickchart(key) {\n",
              "      const quickchartButtonEl =\n",
              "        document.querySelector('#' + key + ' button');\n",
              "      quickchartButtonEl.disabled = true;  // To prevent multiple clicks.\n",
              "      quickchartButtonEl.classList.add('colab-df-spinner');\n",
              "      try {\n",
              "        const charts = await google.colab.kernel.invokeFunction(\n",
              "            'suggestCharts', [key], {});\n",
              "      } catch (error) {\n",
              "        console.error('Error during call to suggestCharts:', error);\n",
              "      }\n",
              "      quickchartButtonEl.classList.remove('colab-df-spinner');\n",
              "      quickchartButtonEl.classList.add('colab-df-quickchart-complete');\n",
              "    }\n",
              "    (() => {\n",
              "      let quickchartButtonEl =\n",
              "        document.querySelector('#df-9042f0cf-8da9-47d3-877a-e446d5e32351 button');\n",
              "      quickchartButtonEl.style.display =\n",
              "        google.colab.kernel.accessAllowed ? 'block' : 'none';\n",
              "    })();\n",
              "  </script>\n",
              "</div>\n",
              "\n",
              "    </div>\n",
              "  </div>\n"
            ],
            "text/plain": [
              "                                        source  \\\n",
              "0        rate the silent upeaker four out oe 6   \n",
              "1    please find me tqe gork tqe bfrning sorld   \n",
              "2  three friendl afe relaxing uround the tsble   \n",
              "3                            what dm they want   \n",
              "4           man in tan aat working with stones   \n",
              "\n",
              "                                        target  \n",
              "0        rate the silent speaker four out of 6  \n",
              "1    please find me the work the burning world  \n",
              "2  three friends are relaxing around the table  \n",
              "3                            what do they want  \n",
              "4           man in tan hat working with stones  "
            ]
          },
          "execution_count": 278,
          "metadata": {},
          "output_type": "execute_result"
        }
      ],
      "source": [
        "SpellGram_dataset_2k = pd.concat([SpellGram_data_500, SpellGram_data_1500_final], ignore_index=True)\n",
        "\n",
        "SpellGram_dataset_2k.head()"
      ]
    },
    {
      "cell_type": "code",
      "execution_count": 279,
      "metadata": {
        "id": "TYVnDzQNJYHQ"
      },
      "outputs": [],
      "source": [
        "SpellGram_dataset_2k.to_csv(\"SpellGram_dataset_2k.csv\")"
      ]
    }
  ],
  "metadata": {
    "accelerator": "GPU",
    "colab": {
      "gpuType": "T4",
      "provenance": []
    },
    "kernelspec": {
      "display_name": "Python 3",
      "name": "python3"
    },
    "language_info": {
      "name": "python"
    }
  },
  "nbformat": 4,
  "nbformat_minor": 0
}
